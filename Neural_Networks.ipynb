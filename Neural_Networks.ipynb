{
  "nbformat": 4,
  "nbformat_minor": 0,
  "metadata": {
    "colab": {
      "provenance": [],
      "toc_visible": true
    },
    "kernelspec": {
      "name": "python3",
      "display_name": "Python 3"
    },
    "language_info": {
      "name": "python"
    }
  },
  "cells": [
    {
      "cell_type": "code",
      "execution_count": null,
      "metadata": {
        "id": "TZVeaGxVBAPk"
      },
      "outputs": [],
      "source": [
        "import random\n",
        "import pandas as pd\n",
        "import numpy as np\n",
        "import matplotlib.pyplot as plt\n",
        "from sklearn.model_selection import train_test_split\n",
        "from sklearn.preprocessing import MinMaxScaler\n",
        "from sklearn.metrics import mean_absolute_error, mean_squared_error, r2_score\n",
        "import tensorflow as tf\n",
        "from keras import optimizers"
      ]
    },
    {
      "cell_type": "code",
      "source": [
        "# y = 0.2x^4 + 2x^3 + 0.1x^2 + 10\n",
        "def func(x):\n",
        "    return 0.2 * x ** 4 + 2 * x ** 3 + 0.1 * x ** 2 + 10"
      ],
      "metadata": {
        "id": "s3jSupMSBBcN"
      },
      "execution_count": null,
      "outputs": []
    },
    {
      "cell_type": "markdown",
      "source": [
        "# Generate Sample Data and Shuffle"
      ],
      "metadata": {
        "id": "cC-_SOh7H9f6"
      }
    },
    {
      "cell_type": "code",
      "source": [
        "def generate_samples(num_samples, shuffle = True):\n",
        "  samples = []\n",
        "  step_size = 2 / (num_samples-1) # calculate the step size between x values ((x1-x2)/(num_samples-1))\n",
        "  x = -1 #starts x at -1\n",
        "  for i in range(num_samples):\n",
        "    y = func(x) # calculate the corresponding y value using the given function\n",
        "    samples.append((x, y)) # add the (x, y) pair to the list of samples\n",
        "    x += step_size #increment x by stepsize\n",
        "\n",
        "  if shuffle:\n",
        "    samples = np.array(samples)\n",
        "    perm = np.random.permutation(num_samples)\n",
        "    samples = samples[perm]\n",
        "\n",
        "  return samples"
      ],
      "metadata": {
        "id": "lXYNeBunBs40"
      },
      "execution_count": null,
      "outputs": []
    },
    {
      "cell_type": "code",
      "source": [
        "dataset_shuffled = generate_samples(30000)\n",
        "dataset_not_shuffled = generate_samples(30000, False)\n",
        "#generate dataframe\n",
        "dataset_df = pd.DataFrame(dataset_shuffled, columns=[\"x\", \"y\"])\n",
        "\n",
        "x_vals = dataset_df['x'].to_numpy()\n",
        "y_vals = dataset_df['y'].to_numpy()\n",
        "\n",
        "#plot function\n",
        "plt.scatter(x_vals, y_vals)\n",
        "plt.ylabel('y')\n",
        "plt.xlabel('x')\n",
        "plt.title('y = 0.2x^4 + 2x^3 + 0.1x^2 + 10')\n",
        "plt.show()"
      ],
      "metadata": {
        "colab": {
          "base_uri": "https://localhost:8080/",
          "height": 295
        },
        "id": "JN74sTf7CHXp",
        "outputId": "6afca51b-ac5d-4027-8417-6d2f263ad105"
      },
      "execution_count": null,
      "outputs": [
        {
          "output_type": "display_data",
          "data": {
            "text/plain": [
              "<Figure size 432x288 with 1 Axes>"
            ],
            "image/png": "[encoded data removed]"
          },
          "metadata": {
            "needs_background": "light"
          }
        }
      ]
    },
    {
      "cell_type": "markdown",
      "source": [
        "# Train, Validate, and Test Splits for Dataset"
      ],
      "metadata": {
        "id": "aABXwPk0QlUu"
      }
    },
    {
      "cell_type": "code",
      "source": [
        "def train_validate_test_split(X, y, train, validate, test):\n",
        "  # calculate the number of samples in each set\n",
        "  n = len(X)\n",
        "  n_train = int(n * train)\n",
        "  n_val = int(n * validate)\n",
        "  n_test = n - n_train - n_val\n",
        "\n",
        "  # split the dataset into the three sets\n",
        "  X_train = X[:n_train]\n",
        "  y_train = y[:n_train]\n",
        "  X_val = X[n_train:n_train+n_val]\n",
        "  y_val = y[n_train:n_train+n_val]\n",
        "  X_test = X[n_train+n_val:]\n",
        "  y_test = y[n_train+n_val:]\n",
        "\n",
        "\n",
        "  return X_train, X_val, X_test, y_train, y_val, y_test"
      ],
      "metadata": {
        "id": "mEIpfTRcFI0w"
      },
      "execution_count": null,
      "outputs": []
    },
    {
      "cell_type": "code",
      "source": [
        "X_train, X_val, X_test, y_train, y_val, y_test = train_validate_test_split (x_vals, y_vals, 0.3, 0.2, 0.5)\n",
        "\n",
        "print(y_train.shape, y_val.shape, y_test.shape)\n"
      ],
      "metadata": {
        "colab": {
          "base_uri": "https://localhost:8080/"
        },
        "id": "WpLtGvn3Lpks",
        "outputId": "baa7ddf6-918d-4499-9a73-0871d3104b47"
      },
      "execution_count": null,
      "outputs": [
        {
          "output_type": "stream",
          "name": "stdout",
          "text": [
            "(9000,) (6000,) (15000,)\n"
          ]
        }
      ]
    },
    {
      "cell_type": "markdown",
      "source": [
        "# Scaling the Dataset"
      ],
      "metadata": {
        "id": "NJPtOaWIRBb7"
      }
    },
    {
      "cell_type": "code",
      "source": [
        "def scale_data(X_train, X_val, X_test, y_train, y_val, y_test):\n",
        "  scaler = MinMaxScaler()\n",
        "  X_train = scaler.fit_transform(X_train.reshape(-1, 1)).flatten()\n",
        "  X_val = scaler.fit_transform(X_val.reshape(-1, 1)).flatten()\n",
        "  X_test = scaler.fit_transform(X_test.reshape(-1, 1)).flatten()\n",
        "  y_train = scaler.fit_transform(y_train.reshape(-1, 1)).flatten()\n",
        "  y_val = scaler.fit_transform(y_val.reshape(-1, 1)).flatten()\n",
        "  y_test = scaler.fit_transform(y_test.reshape(-1, 1)).flatten()\n",
        "\n",
        "  return X_train, X_val, X_test, y_train, y_val, y_test"
      ],
      "metadata": {
        "id": "W3i9QCTlQnM1"
      },
      "execution_count": null,
      "outputs": []
    },
    {
      "cell_type": "markdown",
      "source": [
        "# MAE, RMSE, and R2 Metrics"
      ],
      "metadata": {
        "id": "v01h_FAHTiCb"
      }
    },
    {
      "cell_type": "code",
      "source": [
        "def evaluate_metrics(actual, predicted):\n",
        "    mae = mean_absolute_error(actual, predicted)\n",
        "    mse = mean_squared_error(actual, predicted)\n",
        "    rmse = np.sqrt(mse)\n",
        "    r2 = r2_score(actual, predicted)\n",
        "    print(\"Mean Absolute Error (MAE):\", mae)\n",
        "    print(\"Mean Squared Error (MSE):\", mse)\n",
        "    print(\"Root Mean Squared Error (RMSE):\", rmse)\n",
        "    print(\"R2 Score:\", r2)"
      ],
      "metadata": {
        "id": "9o2B6VSxTzql"
      },
      "execution_count": null,
      "outputs": []
    },
    {
      "cell_type": "markdown",
      "source": [
        "# Neural Network Structures and Models"
      ],
      "metadata": {
        "id": "-KkCfBIfWJw4"
      }
    },
    {
      "cell_type": "code",
      "source": [
        "# define structure 1\n",
        "tf.compat.v1.reset_default_graph() \n",
        "model1 = tf.keras.Sequential([\n",
        "    tf.keras.layers.Input(shape=(1,), name = 'x'),\n",
        "    tf.keras.layers.Dense(units = 12, activation=tf.keras.activations.relu),\n",
        "    tf.keras.layers.Dense(units = 8, activation=tf.keras.activations.relu),\n",
        "    tf.keras.layers.Dense(units = 4, activation=tf.keras.activations.relu),\n",
        "    tf.keras.layers.Dense(units = 1, name = 'y')\n",
        "])\n",
        "\n",
        "model1.summary()\n",
        "\n",
        "model2 = tf.keras.Sequential([\n",
        "    tf.keras.layers.Input(shape=(1,), name = 'x'),\n",
        "    tf.keras.layers.Dense(units = 12, activation=tf.keras.activations.tanh),\n",
        "    tf.keras.layers.Dense(units = 8, activation=tf.keras.activations.tanh),\n",
        "    tf.keras.layers.Dense(units = 4, activation=tf.keras.activations.tanh),\n",
        "    tf.keras.layers.Dense(units = 1, name = 'y')\n",
        "])\n",
        "\n",
        "model2.summary()\n",
        "\n",
        "model3 = tf.keras.Sequential([\n",
        "    tf.keras.layers.Input(shape=(1,), name = 'x'),\n",
        "    tf.keras.layers.Dense(units = 24, activation=tf.keras.activations.relu),\n",
        "    tf.keras.layers.Dense(units = 1, name = 'y')\n",
        "])\n",
        "\n",
        "model3.summary()"
      ],
      "metadata": {
        "colab": {
          "base_uri": "https://localhost:8080/"
        },
        "id": "Bl4eL3lEWOFB",
        "outputId": "ff89e4d2-0556-4029-e945-a4769c3eeb2d"
      },
      "execution_count": null,
      "outputs": [
        {
          "output_type": "stream",
          "name": "stdout",
          "text": [
            "Model: \"sequential\"\n",
            "_________________________________________________________________\n",
            " Layer (type)                Output Shape              Param #   \n",
            "=================================================================\n",
            " dense (Dense)               (None, 12)                24        \n",
            "                                                                 \n",
            " dense_1 (Dense)             (None, 8)                 104       \n",
            "                                                                 \n",
            " dense_2 (Dense)             (None, 4)                 36        \n",
            "                                                                 \n",
            " y (Dense)                   (None, 1)                 5         \n",
            "                                                                 \n",
            "=================================================================\n",
            "Total params: 169\n",
            "Trainable params: 169\n",
            "Non-trainable params: 0\n",
            "_________________________________________________________________\n",
            "Model: \"sequential_1\"\n",
            "_________________________________________________________________\n",
            " Layer (type)                Output Shape              Param #   \n",
            "=================================================================\n",
            " dense_3 (Dense)             (None, 12)                24        \n",
            "                                                                 \n",
            " dense_4 (Dense)             (None, 8)                 104       \n",
            "                                                                 \n",
            " dense_5 (Dense)             (None, 4)                 36        \n",
            "                                                                 \n",
            " y (Dense)                   (None, 1)                 5         \n",
            "                                                                 \n",
            "=================================================================\n",
            "Total params: 169\n",
            "Trainable params: 169\n",
            "Non-trainable params: 0\n",
            "_________________________________________________________________\n",
            "Model: \"sequential_2\"\n",
            "_________________________________________________________________\n",
            " Layer (type)                Output Shape              Param #   \n",
            "=================================================================\n",
            " dense_6 (Dense)             (None, 24)                48        \n",
            "                                                                 \n",
            " y (Dense)                   (None, 1)                 25        \n",
            "                                                                 \n",
            "=================================================================\n",
            "Total params: 73\n",
            "Trainable params: 73\n",
            "Non-trainable params: 0\n",
            "_________________________________________________________________\n"
          ]
        }
      ]
    },
    {
      "cell_type": "code",
      "source": [
        "def compile_fit_model(model, x_train, y_train):\n",
        "  model.compile(loss=tf.keras.losses.MeanSquaredError(),\n",
        "            optimizer='adam')\n",
        "\n",
        "  # fit model\n",
        "  batch_size = 12\n",
        "  epochs = 20\n",
        "  model.fit(\n",
        "        x_train, y_train, batch_size=batch_size, epochs=epochs\n",
        "  )\n",
        "\n",
        "  return model\n",
        "\n",
        "def show_graphs(x_test, y_test, y_pred):\n",
        "  #plot function\n",
        "  plt.scatter(x_test, y_test)\n",
        "  plt.ylabel('y')\n",
        "  plt.xlabel('x')\n",
        "  plt.title('Actual Values')\n",
        "  plt.show()\n",
        "\n",
        "  #plot function\n",
        "  plt.scatter(x_test, y_pred)\n",
        "  plt.ylabel('y')\n",
        "  plt.xlabel('x')\n",
        "  plt.title('Predicted Values')\n",
        "  plt.show()"
      ],
      "metadata": {
        "id": "BJD0B3rXYIli"
      },
      "execution_count": null,
      "outputs": []
    },
    {
      "cell_type": "markdown",
      "source": [
        "## Case 1"
      ],
      "metadata": {
        "id": "BlYOTkeDX7gk"
      }
    },
    {
      "cell_type": "code",
      "source": [
        "# generate shuffled samples\n",
        "dataset = generate_samples(30000)\n",
        "\n",
        "#generate dataframe\n",
        "dataset_df = pd.DataFrame(dataset_shuffled, columns=[\"x\", \"y\"])\n",
        "x_vals = dataset_df['x'].to_numpy()\n",
        "x_vals = x_vals.astype('float32')\n",
        "y_vals = dataset_df['y'].to_numpy()\n",
        "y_vals = y_vals.astype('float32')\n",
        "\n",
        "print()\n",
        "# get splits\n",
        "X_train, X_val, X_test, y_train, y_val, y_test = train_validate_test_split (x_vals, y_vals, 0.3, 0.2, 0.5)\n",
        "\n",
        "# compile and train model\n",
        "model = compile_fit_model(model1, X_train, y_train)\n",
        "\n",
        "# get metrics and graph\n",
        "y_pred = model.predict(X_test)\n",
        "y_val = model.predict(X_val)\n",
        "show_graphs(X_test, y_test, y_pred)\n",
        "evaluate_metrics(X_val, y_val)"
      ],
      "metadata": {
        "colab": {
          "base_uri": "https://localhost:8080/",
          "height": 1000
        },
        "id": "0QQubRXMX9QH",
        "outputId": "1464c0c6-0a87-4854-c171-b62ea1c16b13"
      },
      "execution_count": null,
      "outputs": [
        {
          "output_type": "stream",
          "name": "stdout",
          "text": [
            "\n",
            "Epoch 1/20\n",
            "750/750 [==============================] - 2s 2ms/step - loss: 34.4852\n",
            "Epoch 2/20\n",
            "750/750 [==============================] - 2s 2ms/step - loss: 0.1115\n",
            "Epoch 3/20\n",
            "750/750 [==============================] - 2s 3ms/step - loss: 0.0484\n",
            "Epoch 4/20\n",
            "750/750 [==============================] - 1s 2ms/step - loss: 0.0234\n",
            "Epoch 5/20\n",
            "750/750 [==============================] - 1s 2ms/step - loss: 0.0113\n",
            "Epoch 6/20\n",
            "750/750 [==============================] - 1s 2ms/step - loss: 0.0055\n",
            "Epoch 7/20\n",
            "750/750 [==============================] - 1s 2ms/step - loss: 0.0029\n",
            "Epoch 8/20\n",
            "750/750 [==============================] - 1s 2ms/step - loss: 0.0017\n",
            "Epoch 9/20\n",
            "750/750 [==============================] - 1s 2ms/step - loss: 0.0011\n",
            "Epoch 10/20\n",
            "750/750 [==============================] - 1s 2ms/step - loss: 8.4307e-04\n",
            "Epoch 11/20\n",
            "750/750 [==============================] - 1s 2ms/step - loss: 6.9407e-04\n",
            "Epoch 12/20\n",
            "750/750 [==============================] - 2s 2ms/step - loss: 6.4288e-04\n",
            "Epoch 13/20\n",
            "750/750 [==============================] - 1s 2ms/step - loss: 6.1186e-04\n",
            "Epoch 14/20\n",
            "750/750 [==============================] - 1s 2ms/step - loss: 5.9659e-04\n",
            "Epoch 15/20\n",
            "750/750 [==============================] - 1s 2ms/step - loss: 5.6708e-04\n",
            "Epoch 16/20\n",
            "750/750 [==============================] - 1s 2ms/step - loss: 5.8263e-04\n",
            "Epoch 17/20\n",
            "750/750 [==============================] - 1s 2ms/step - loss: 5.6818e-04\n",
            "Epoch 18/20\n",
            "750/750 [==============================] - 1s 2ms/step - loss: 5.7684e-04\n",
            "Epoch 19/20\n",
            "750/750 [==============================] - 1s 2ms/step - loss: 5.4977e-04\n",
            "Epoch 20/20\n",
            "750/750 [==============================] - 1s 2ms/step - loss: 5.3304e-04\n",
            "469/469 [==============================] - 1s 2ms/step\n",
            "188/188 [==============================] - 0s 2ms/step\n"
          ]
        },
        {
          "output_type": "display_data",
          "data": {
            "text/plain": [
              "<Figure size 432x288 with 1 Axes>"
            ],
            "image/png": "[encoded data removed]"
          },
          "metadata": {
            "needs_background": "light"
          }
        },
        {
          "output_type": "display_data",
          "data": {
            "text/plain": [
              "<Figure size 432x288 with 1 Axes>"
            ],
            "image/png": "[encoded data removed]"
          },
          "metadata": {
            "needs_background": "light"
          }
        },
        {
          "output_type": "stream",
          "name": "stdout",
          "text": [
            "Mean Absolute Error (MAE): 10.073483\n",
            "Mean Squared Error (MSE): 101.58166\n",
            "Root Mean Squared Error (RMSE): 10.078773\n",
            "R2 Score: -311.1648403333153\n"
          ]
        }
      ]
    },
    {
      "cell_type": "markdown",
      "source": [
        "## Case 2"
      ],
      "metadata": {
        "id": "P8Wua8kxcjWE"
      }
    },
    {
      "cell_type": "code",
      "source": [
        "# generate shuffled samples\n",
        "dataset = generate_samples(30000)\n",
        "\n",
        "#generate dataframe\n",
        "dataset_df = pd.DataFrame(dataset_shuffled, columns=[\"x\", \"y\"])\n",
        "x_vals = dataset_df['x'].to_numpy()\n",
        "x_vals = x_vals.astype('float32')\n",
        "y_vals = dataset_df['y'].to_numpy()\n",
        "y_vals = y_vals.astype('float32')\n",
        "\n",
        "print()\n",
        "# get splits\n",
        "X_train, X_val, X_test, y_train, y_val, y_test = train_validate_test_split (x_vals, y_vals, 0.3, 0.2, 0.5)\n",
        "\n",
        "# compile and train model\n",
        "model = compile_fit_model(model3, X_train, y_train)\n",
        "\n",
        "# get metrics and graphs\n",
        "y_pred = model.predict(X_test)\n",
        "y_val = model.predict(X_val)\n",
        "show_graphs(X_test, y_test, y_pred)\n",
        "evaluate_metrics(X_val, y_val)"
      ],
      "metadata": {
        "colab": {
          "base_uri": "https://localhost:8080/",
          "height": 1000
        },
        "id": "o2xxq6OXcoFD",
        "outputId": "3585c3dd-1eb8-45ec-b5e2-fcc882d55c2c"
      },
      "execution_count": null,
      "outputs": [
        {
          "output_type": "stream",
          "name": "stdout",
          "text": [
            "\n",
            "Epoch 1/20\n",
            "750/750 [==============================] - 2s 2ms/step - loss: 32.5316\n",
            "Epoch 2/20\n",
            "750/750 [==============================] - 1s 1ms/step - loss: 0.0588\n",
            "Epoch 3/20\n",
            "750/750 [==============================] - 1s 1ms/step - loss: 0.0478\n",
            "Epoch 4/20\n",
            "750/750 [==============================] - 1s 1ms/step - loss: 0.0434\n",
            "Epoch 5/20\n",
            "750/750 [==============================] - 1s 1ms/step - loss: 0.0418\n",
            "Epoch 6/20\n",
            "750/750 [==============================] - 1s 1ms/step - loss: 0.0385\n",
            "Epoch 7/20\n",
            "750/750 [==============================] - 1s 1ms/step - loss: 0.0310\n",
            "Epoch 8/20\n",
            "750/750 [==============================] - 1s 2ms/step - loss: 0.0203\n",
            "Epoch 9/20\n",
            "750/750 [==============================] - 1s 2ms/step - loss: 0.0115\n",
            "Epoch 10/20\n",
            "750/750 [==============================] - 2s 2ms/step - loss: 0.0067\n",
            "Epoch 11/20\n",
            "750/750 [==============================] - 1s 1ms/step - loss: 0.0043\n",
            "Epoch 12/20\n",
            "750/750 [==============================] - 1s 1ms/step - loss: 0.0030\n",
            "Epoch 13/20\n",
            "750/750 [==============================] - 1s 1ms/step - loss: 0.0025\n",
            "Epoch 14/20\n",
            "750/750 [==============================] - 1s 2ms/step - loss: 0.0023\n",
            "Epoch 15/20\n",
            "750/750 [==============================] - 1s 2ms/step - loss: 0.0021\n",
            "Epoch 16/20\n",
            "750/750 [==============================] - 1s 1ms/step - loss: 0.0020\n",
            "Epoch 17/20\n",
            "750/750 [==============================] - 1s 2ms/step - loss: 0.0020\n",
            "Epoch 18/20\n",
            "750/750 [==============================] - 1s 2ms/step - loss: 0.0019\n",
            "Epoch 19/20\n",
            "750/750 [==============================] - 1s 2ms/step - loss: 0.0019\n",
            "Epoch 20/20\n",
            "750/750 [==============================] - 2s 2ms/step - loss: 0.0018\n",
            "469/469 [==============================] - 1s 2ms/step\n",
            "188/188 [==============================] - 0s 1ms/step\n"
          ]
        },
        {
          "output_type": "display_data",
          "data": {
            "text/plain": [
              "<Figure size 432x288 with 1 Axes>"
            ],
            "image/png": "[encoded data removed]"
          },
          "metadata": {
            "needs_background": "light"
          }
        },
        {
          "output_type": "display_data",
          "data": {
            "text/plain": [
              "<Figure size 432x288 with 1 Axes>"
            ],
            "image/png": "[encoded data removed]"
          },
          "metadata": {
            "needs_background": "light"
          }
        },
        {
          "output_type": "stream",
          "name": "stdout",
          "text": [
            "Mean Absolute Error (MAE): 10.0581665\n",
            "Mean Squared Error (MSE): 101.26854\n",
            "Root Mean Squared Error (RMSE): 10.063227\n",
            "R2 Score: -310.2026425526128\n"
          ]
        }
      ]
    },
    {
      "cell_type": "markdown",
      "source": [
        "## Case 3"
      ],
      "metadata": {
        "id": "zuLY8Mdydr7p"
      }
    },
    {
      "cell_type": "code",
      "source": [
        "# generate shuffled samples\n",
        "dataset = generate_samples(30000)\n",
        "\n",
        "#generate dataframe\n",
        "dataset_df = pd.DataFrame(dataset_shuffled, columns=[\"x\", \"y\"])\n",
        "x_vals = dataset_df['x'].to_numpy()\n",
        "x_vals = x_vals.astype('float32')\n",
        "y_vals = dataset_df['y'].to_numpy()\n",
        "y_vals = y_vals.astype('float32')\n",
        "\n",
        "print()\n",
        "# get splits\n",
        "X_train, X_val, X_test, y_train, y_val, y_test = train_validate_test_split (x_vals, y_vals, 0.3, 0.2, 0.5)\n",
        "\n",
        "# compile and train model\n",
        "model = compile_fit_model(model2, X_train, y_train)\n",
        "\n",
        "# get metrics and graphs\n",
        "y_pred = model.predict(X_test)\n",
        "y_val = model.predict(X_val)\n",
        "show_graphs(X_test, y_test, y_pred)\n",
        "evaluate_metrics(X_val, y_val)"
      ],
      "metadata": {
        "colab": {
          "base_uri": "https://localhost:8080/",
          "height": 1000
        },
        "id": "gbXahsUSc8lU",
        "outputId": "b370387f-34af-4bc5-a23f-36b0dc3fb53b"
      },
      "execution_count": null,
      "outputs": [
        {
          "output_type": "stream",
          "name": "stdout",
          "text": [
            "\n",
            "Epoch 1/20\n",
            "750/750 [==============================] - 3s 3ms/step - loss: 34.5140\n",
            "Epoch 2/20\n",
            "750/750 [==============================] - 1s 2ms/step - loss: 5.7708\n",
            "Epoch 3/20\n",
            "750/750 [==============================] - 1s 2ms/step - loss: 1.1118\n",
            "Epoch 4/20\n",
            "750/750 [==============================] - 1s 2ms/step - loss: 0.5912\n",
            "Epoch 5/20\n",
            "750/750 [==============================] - 1s 2ms/step - loss: 0.4421\n",
            "Epoch 6/20\n",
            "750/750 [==============================] - 2s 2ms/step - loss: 0.2378\n",
            "Epoch 7/20\n",
            "750/750 [==============================] - 2s 2ms/step - loss: 0.1766\n",
            "Epoch 8/20\n",
            "750/750 [==============================] - 1s 2ms/step - loss: 0.1276\n",
            "Epoch 9/20\n",
            "750/750 [==============================] - 1s 2ms/step - loss: 0.0484\n",
            "Epoch 10/20\n",
            "750/750 [==============================] - 1s 2ms/step - loss: 0.0192\n",
            "Epoch 11/20\n",
            "750/750 [==============================] - 1s 2ms/step - loss: 0.0087\n",
            "Epoch 12/20\n",
            "750/750 [==============================] - 1s 2ms/step - loss: 0.0040\n",
            "Epoch 13/20\n",
            "750/750 [==============================] - 1s 2ms/step - loss: 0.0020\n",
            "Epoch 14/20\n",
            "750/750 [==============================] - 1s 2ms/step - loss: 0.0012\n",
            "Epoch 15/20\n",
            "750/750 [==============================] - 2s 2ms/step - loss: 7.9456e-04\n",
            "Epoch 16/20\n",
            "750/750 [==============================] - 2s 2ms/step - loss: 5.5728e-04\n",
            "Epoch 17/20\n",
            "750/750 [==============================] - 2s 2ms/step - loss: 4.9118e-04\n",
            "Epoch 18/20\n",
            "750/750 [==============================] - 2s 3ms/step - loss: 2.4978e-04\n",
            "Epoch 19/20\n",
            "750/750 [==============================] - 2s 3ms/step - loss: 2.0142e-04\n",
            "Epoch 20/20\n",
            "750/750 [==============================] - 2s 3ms/step - loss: 1.7477e-04\n",
            "469/469 [==============================] - 1s 1ms/step\n",
            "188/188 [==============================] - 0s 1ms/step\n"
          ]
        },
        {
          "output_type": "display_data",
          "data": {
            "text/plain": [
              "<Figure size 432x288 with 1 Axes>"
            ],
            "image/png": "[encoded data removed]"
          },
          "metadata": {
            "needs_background": "light"
          }
        },
        {
          "output_type": "display_data",
          "data": {
            "text/plain": [
              "<Figure size 432x288 with 1 Axes>"
            ],
            "image/png": "[encoded data removed]"
          },
          "metadata": {
            "needs_background": "light"
          }
        },
        {
          "output_type": "stream",
          "name": "stdout",
          "text": [
            "Mean Absolute Error (MAE): 10.072193\n",
            "Mean Squared Error (MSE): 101.55504\n",
            "Root Mean Squared Error (RMSE): 10.077452\n",
            "R2 Score: -311.0830579088357\n"
          ]
        }
      ]
    },
    {
      "cell_type": "markdown",
      "source": [
        "## Case 4"
      ],
      "metadata": {
        "id": "pIZbuHlFduA-"
      }
    },
    {
      "cell_type": "code",
      "source": [
        "# generate shuffled samples\n",
        "dataset = generate_samples(30000)\n",
        "\n",
        "#generate dataframe\n",
        "dataset_df = pd.DataFrame(dataset_shuffled, columns=[\"x\", \"y\"])\n",
        "x_vals = dataset_df['x'].to_numpy()\n",
        "x_vals = x_vals.astype('float32')\n",
        "y_vals = dataset_df['y'].to_numpy()\n",
        "y_vals = y_vals.astype('float32')\n",
        "\n",
        "# get splits\n",
        "X_train, X_val, X_test, y_train, y_val, y_test = train_validate_test_split (x_vals, y_vals, 0.3, 0.2, 0.5)\n",
        "\n",
        "X_train, X_val, X_test, y_train, y_val, y_test = scale_data(X_train, X_val, X_test, y_train, y_val, y_test)\n",
        "\n",
        "# compile and train model\n",
        "model = compile_fit_model(model1, X_train, y_train)\n",
        "\n",
        "# get metrics and graph\n",
        "y_pred = model.predict(X_test)\n",
        "y_val = model.predict(X_val)\n",
        "show_graphs(X_test, y_test, y_pred)\n",
        "evaluate_metrics(X_val, y_val)"
      ],
      "metadata": {
        "colab": {
          "base_uri": "https://localhost:8080/",
          "height": 1000
        },
        "id": "knRbrOTZdwi6",
        "outputId": "ea4238b0-505d-4e81-ecb9-10f1f6cd1f76"
      },
      "execution_count": null,
      "outputs": [
        {
          "output_type": "stream",
          "name": "stdout",
          "text": [
            "Epoch 1/20\n",
            "750/750 [==============================] - 2s 2ms/step - loss: 14.7472\n",
            "Epoch 2/20\n",
            "750/750 [==============================] - 2s 2ms/step - loss: 0.3370\n",
            "Epoch 3/20\n",
            "750/750 [==============================] - 2s 2ms/step - loss: 0.0514\n",
            "Epoch 4/20\n",
            "750/750 [==============================] - 1s 2ms/step - loss: 0.0312\n",
            "Epoch 5/20\n",
            "750/750 [==============================] - 1s 2ms/step - loss: 0.0174\n",
            "Epoch 6/20\n",
            "750/750 [==============================] - 1s 2ms/step - loss: 0.0102\n",
            "Epoch 7/20\n",
            "750/750 [==============================] - 1s 2ms/step - loss: 0.0078\n",
            "Epoch 8/20\n",
            "750/750 [==============================] - 1s 2ms/step - loss: 0.0062\n",
            "Epoch 9/20\n",
            "750/750 [==============================] - 1s 2ms/step - loss: 0.0049\n",
            "Epoch 10/20\n",
            "750/750 [==============================] - 1s 2ms/step - loss: 0.0041\n",
            "Epoch 11/20\n",
            "750/750 [==============================] - 1s 2ms/step - loss: 0.0036\n",
            "Epoch 12/20\n",
            "750/750 [==============================] - 2s 2ms/step - loss: 0.0032\n",
            "Epoch 13/20\n",
            "750/750 [==============================] - 2s 2ms/step - loss: 0.0028\n",
            "Epoch 14/20\n",
            "750/750 [==============================] - 1s 2ms/step - loss: 0.0022\n",
            "Epoch 15/20\n",
            "750/750 [==============================] - 1s 2ms/step - loss: 0.0016\n",
            "Epoch 16/20\n",
            "750/750 [==============================] - 1s 2ms/step - loss: 0.0011\n",
            "Epoch 17/20\n",
            "750/750 [==============================] - 2s 2ms/step - loss: 5.8656e-04\n",
            "Epoch 18/20\n",
            "750/750 [==============================] - 1s 2ms/step - loss: 3.1186e-04\n",
            "Epoch 19/20\n",
            "750/750 [==============================] - 2s 2ms/step - loss: 2.2053e-04\n",
            "Epoch 20/20\n",
            "750/750 [==============================] - 1s 2ms/step - loss: 2.0113e-04\n",
            "469/469 [==============================] - 1s 2ms/step\n",
            "188/188 [==============================] - 0s 2ms/step\n"
          ]
        },
        {
          "output_type": "display_data",
          "data": {
            "text/plain": [
              "<Figure size 432x288 with 1 Axes>"
            ],
            "image/png": "[encoded data removed]"
          },
          "metadata": {
            "needs_background": "light"
          }
        },
        {
          "output_type": "display_data",
          "data": {
            "text/plain": [
              "<Figure size 432x288 with 1 Axes>"
            ],
            "image/png": "[encoded data removed]"
          },
          "metadata": {
            "needs_background": "light"
          }
        },
        {
          "output_type": "stream",
          "name": "stdout",
          "text": [
            "Mean Absolute Error (MAE): 0.12827523\n",
            "Mean Squared Error (MSE): 0.021945586\n",
            "Root Mean Squared Error (RMSE): 0.14814043\n",
            "R2 Score: 0.7305107455678946\n"
          ]
        }
      ]
    },
    {
      "cell_type": "markdown",
      "source": [
        "## Case 5"
      ],
      "metadata": {
        "id": "3WN2fVRYecCL"
      }
    },
    {
      "cell_type": "code",
      "source": [
        "# generate shuffled samples\n",
        "dataset = generate_samples(30000)\n",
        "\n",
        "#generate dataframe\n",
        "dataset_df = pd.DataFrame(dataset_shuffled, columns=[\"x\", \"y\"])\n",
        "x_vals = dataset_df['x'].to_numpy()\n",
        "x_vals = x_vals.astype('float32')\n",
        "y_vals = dataset_df['y'].to_numpy()\n",
        "y_vals = y_vals.astype('float32')\n",
        "\n",
        "# get splits\n",
        "X_train, X_val, X_test, y_train, y_val, y_test = train_validate_test_split (x_vals, y_vals, 0.3, 0.2, 0.5)\n",
        "\n",
        "X_train, X_val, X_test, y_train, y_val, y_test = scale_data(X_train, X_val, X_test, y_train, y_val, y_test)\n",
        "\n",
        "# compile and train model\n",
        "model = compile_fit_model(model2, X_train, y_train)\n",
        "\n",
        "# get metrics and graph\n",
        "y_pred = model.predict(X_test)\n",
        "y_val = model.predict(X_val)\n",
        "show_graphs(X_test, y_test, y_pred)\n",
        "evaluate_metrics(X_val, y_val)"
      ],
      "metadata": {
        "colab": {
          "base_uri": "https://localhost:8080/",
          "height": 1000
        },
        "id": "wYOdJt7kefR5",
        "outputId": "37ea4fa6-1335-4b6c-d282-b56e6a8312b6"
      },
      "execution_count": null,
      "outputs": [
        {
          "output_type": "stream",
          "name": "stdout",
          "text": [
            "Epoch 1/20\n",
            "750/750 [==============================] - 2s 2ms/step - loss: 7.1598\n",
            "Epoch 2/20\n",
            "750/750 [==============================] - 1s 2ms/step - loss: 0.0028\n",
            "Epoch 3/20\n",
            "750/750 [==============================] - 1s 2ms/step - loss: 0.0022\n",
            "Epoch 4/20\n",
            "750/750 [==============================] - 1s 2ms/step - loss: 0.0020\n",
            "Epoch 5/20\n",
            "750/750 [==============================] - 1s 2ms/step - loss: 0.0017\n",
            "Epoch 6/20\n",
            "750/750 [==============================] - 1s 2ms/step - loss: 0.0015\n",
            "Epoch 7/20\n",
            "750/750 [==============================] - 1s 2ms/step - loss: 0.0011\n",
            "Epoch 8/20\n",
            "750/750 [==============================] - 2s 2ms/step - loss: 8.0133e-04\n",
            "Epoch 9/20\n",
            "750/750 [==============================] - 1s 2ms/step - loss: 5.4408e-04\n",
            "Epoch 10/20\n",
            "750/750 [==============================] - 1s 2ms/step - loss: 4.4940e-04\n",
            "Epoch 11/20\n",
            "750/750 [==============================] - 1s 2ms/step - loss: 3.7378e-04\n",
            "Epoch 12/20\n",
            "750/750 [==============================] - 1s 2ms/step - loss: 3.0131e-04\n",
            "Epoch 13/20\n",
            "750/750 [==============================] - 1s 2ms/step - loss: 2.1431e-04\n",
            "Epoch 14/20\n",
            "750/750 [==============================] - 1s 2ms/step - loss: 1.5200e-04\n",
            "Epoch 15/20\n",
            "750/750 [==============================] - 2s 3ms/step - loss: 9.6198e-05\n",
            "Epoch 16/20\n",
            "750/750 [==============================] - 2s 3ms/step - loss: 7.3141e-05\n",
            "Epoch 17/20\n",
            "750/750 [==============================] - 2s 2ms/step - loss: 7.0458e-05\n",
            "Epoch 18/20\n",
            "750/750 [==============================] - 1s 2ms/step - loss: 5.9773e-05\n",
            "Epoch 19/20\n",
            "750/750 [==============================] - 1s 2ms/step - loss: 5.7494e-05\n",
            "Epoch 20/20\n",
            "750/750 [==============================] - 1s 2ms/step - loss: 6.0142e-05\n",
            "469/469 [==============================] - 1s 1ms/step\n",
            "188/188 [==============================] - 0s 1ms/step\n"
          ]
        },
        {
          "output_type": "display_data",
          "data": {
            "text/plain": [
              "<Figure size 432x288 with 1 Axes>"
            ],
            "image/png": "[encoded data removed]"
          },
          "metadata": {
            "needs_background": "light"
          }
        },
        {
          "output_type": "display_data",
          "data": {
            "text/plain": [
              "<Figure size 432x288 with 1 Axes>"
            ],
            "image/png": "[encoded data removed]"
          },
          "metadata": {
            "needs_background": "light"
          }
        },
        {
          "output_type": "stream",
          "name": "stdout",
          "text": [
            "Mean Absolute Error (MAE): 0.1367018\n",
            "Mean Squared Error (MSE): 0.025159974\n",
            "Root Mean Squared Error (RMSE): 0.15861896\n",
            "R2 Score: 0.6910384863547965\n"
          ]
        }
      ]
    },
    {
      "cell_type": "markdown",
      "source": [
        "# Manual Neural Network"
      ],
      "metadata": {
        "id": "pIxFM4NYe0u4"
      }
    },
    {
      "cell_type": "code",
      "source": [
        "# Define the sigmoid activation function\n",
        "def sigmoid(x):\n",
        "    return 1 / (1 + np.exp(-x))\n",
        "\n",
        "# Define the derivative of the sigmoid function\n",
        "def sigmoid_derivative(x):\n",
        "    return x * (1 - x)\n",
        "\n",
        "# Define the input and output data\n",
        "X = np.array([[0, 0], [0, 1], [1, 0], [1, 1]])\n",
        "y = np.array([[0], [1], [1], [0]])\n",
        "\n",
        "# Initialize the layers and the weights randomly\n",
        "np.random.seed(1)\n",
        "weights_1 = 2 * np.random.random((2, 4)) - 1\n",
        "weights_2 = 2 * np.random.random((4, 1)) - 1\n",
        "\n",
        "print(\"Shapes:\\n\",\"Input:\", X.shape, \"Hidden Layer1:\", weights_1.shape, \"Hidden Layer2:\",weights_2.shape)\n",
        "# Train the neural network\n",
        "for i in range(50000):\n",
        "\n",
        "    # Forward propagation\n",
        "    layer_1 = sigmoid(np.dot(X, weights_1))\n",
        "    layer_2 = sigmoid(np.dot(layer_1, weights_2))\n",
        "\n",
        "    # Calculate the error\n",
        "    error = y - layer_2\n",
        "\n",
        "    # Backward propagation\n",
        "    delta_2 = error * sigmoid_derivative(layer_2)\n",
        "    delta_1 = delta_2.dot(weights_2.T) * sigmoid_derivative(layer_1)\n",
        "\n",
        "    # Update the weights\n",
        "    weights_2 += layer_1.T.dot(delta_2)\n",
        "    weights_1 += X.T.dot(delta_1)\n",
        "\n",
        "# Test the neural network i.e. forward propagate\n",
        "output = sigmoid(np.dot(sigmoid(np.dot(X, weights_1)), weights_2))\n",
        "print(weights_1)\n",
        "print(weights_2)\n",
        "\n",
        "print(f'>>>Output:\\n{output}')"
      ],
      "metadata": {
        "colab": {
          "base_uri": "https://localhost:8080/"
        },
        "id": "IXc7vyZde5I3",
        "outputId": "cab23f03-2db8-4f9a-8c93-f2f6a38ebcc4"
      },
      "execution_count": null,
      "outputs": [
        {
          "output_type": "stream",
          "name": "stdout",
          "text": [
            "Shapes:\n",
            " Input: (4, 2) Hidden Layer1: (2, 4) Hidden Layer2: (4, 1)\n",
            "[[ 3.13526159  4.07849993 -6.07575203 -7.56936407]\n",
            " [-1.34653935 -8.28619635 -5.94801059  3.516715  ]]\n",
            "[[ -6.16572535]\n",
            " [ 10.96135323]\n",
            " [-20.76380586]\n",
            " [  6.53460121]]\n",
            ">>>Output:\n",
            "[[0.00886457]\n",
            " [0.99345181]\n",
            " [0.99204399]\n",
            " [0.00662401]]\n"
          ]
        }
      ]
    },
    {
      "cell_type": "code",
      "source": [],
      "metadata": {
        "id": "dZfVPG8Kl0gl"
      },
      "execution_count": null,
      "outputs": []
    }
  ]
}